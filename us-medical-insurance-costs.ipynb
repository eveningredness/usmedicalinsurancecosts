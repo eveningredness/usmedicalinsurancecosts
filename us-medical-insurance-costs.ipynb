{
 "cells": [
  {
   "cell_type": "markdown",
   "metadata": {},
   "source": [
    "# U.S. Medical Insurance Costs"
   ]
  },
  {
   "cell_type": "markdown",
   "metadata": {},
   "source": [
    "In this document, we will be examining a dataset that contains insurance cost information for individuals in various American regions. Our goal is to find the average insurance cost for each region."
   ]
  },
  {
   "cell_type": "markdown",
   "metadata": {},
   "source": [
    "First, we will import the csv module and the relevant file of data, and assemble the data into an easy-to-read list of dictionary items."
   ]
  },
  {
   "cell_type": "code",
   "execution_count": 2,
   "metadata": {},
   "outputs": [],
   "source": [
    "import csv\n",
    "data_rows = []\n",
    "with open('insurance.csv') as file:\n",
    "    csv_reader = csv.DictReader(file)\n",
    "    for row in csv_reader:\n",
    "        data_rows.append(row)\n"
   ]
  },
  {
   "cell_type": "markdown",
   "metadata": {},
   "source": [
    "Looking at the data, each row contains 7 categories: **age, sex, bmi, children, smoker, region, and charges**.\n",
    "\n",
    "To make the data simpler, we will put each category into its own list."
   ]
  },
  {
   "cell_type": "code",
   "execution_count": 3,
   "metadata": {},
   "outputs": [],
   "source": [
    "age = []\n",
    "sex = []\n",
    "bmi = []\n",
    "children = []\n",
    "smoker = []\n",
    "region = []\n",
    "charges = []\n",
    "\n",
    "for row in data_rows:\n",
    "    age.append(row['age'])\n",
    "    sex.append(row['sex'])\n",
    "    bmi.append(row['bmi'])\n",
    "    children.append(row['children'])\n",
    "    smoker.append(row['smoker'])\n",
    "    region.append(row['region'])\n",
    "    charges.append(row['charges'])\n",
    "    "
   ]
  },
  {
   "cell_type": "markdown",
   "metadata": {},
   "source": [
    "Now that we have the relevant dated sorted. We want to again ask our research question:\n",
    "\n",
    "(1) ***What region had the highest average costs?***"
   ]
  },
  {
   "cell_type": "markdown",
   "metadata": {},
   "source": [
    "To figure this out, we first need to find out what the unique regions are in the data, and after that, we must create separate lists for each region. "
   ]
  },
  {
   "cell_type": "code",
   "execution_count": 4,
   "metadata": {},
   "outputs": [
    {
     "name": "stdout",
     "output_type": "stream",
     "text": [
      "{'southwest', 'northwest', 'southeast', 'northeast'}\n"
     ]
    }
   ],
   "source": [
    "#Find unique regions\n",
    "myset = set(region)\n",
    "print(myset)\n",
    "\n",
    "#Create separate lists for each region\n",
    "southwest_data = []\n",
    "northwest_data = []\n",
    "northeast_data = []\n",
    "southeast_data = []"
   ]
  },
  {
   "cell_type": "markdown",
   "metadata": {},
   "source": [
    "Now, we need to fill our lists with the appropriate data."
   ]
  },
  {
   "cell_type": "code",
   "execution_count": 5,
   "metadata": {},
   "outputs": [],
   "source": [
    "#Populate the lists\n",
    "for entry in data_rows:\n",
    "    if entry['region'] == 'southwest':\n",
    "        southwest_data.append(entry)\n",
    "    elif entry['region'] == 'northwest':\n",
    "        northwest_data.append(entry)\n",
    "    elif entry['region'] == 'northeast':\n",
    "        northeast_data.append(entry)\n",
    "    elif entry['region'] == 'southeast':\n",
    "        southeast_data.append(entry)\n",
    "    else:\n",
    "        print('Region not found!')\n",
    "        "
   ]
  },
  {
   "cell_type": "markdown",
   "metadata": {},
   "source": [
    "We now have all the correct data in the respective places, so we can go through each of the above lists and find the average cost for each region."
   ]
  },
  {
   "cell_type": "code",
   "execution_count": 6,
   "metadata": {},
   "outputs": [
    {
     "name": "stdout",
     "output_type": "stream",
     "text": [
      "The average insurance costs in the southwest region are 12347 dollars.\n"
     ]
    }
   ],
   "source": [
    "#Average cost for insurance in the southwest\n",
    "total_southwest_costs = 0\n",
    "for entry in southwest_data:\n",
    "    entry_cost = float(entry['charges'])\n",
    "    total_southwest_costs += entry_cost\n",
    "\n",
    "southwest_average_cost = round(total_southwest_costs / len(southwest_data))\n",
    "\n",
    "print(\"The average insurance costs in the southwest region are {southwest_average_cost} dollars.\".format(southwest_average_cost=southwest_average_cost))"
   ]
  },
  {
   "cell_type": "code",
   "execution_count": 7,
   "metadata": {},
   "outputs": [
    {
     "name": "stdout",
     "output_type": "stream",
     "text": [
      "The average insurance costs in the northwest region are 12418 dollars.\n"
     ]
    }
   ],
   "source": [
    "#Average cost for insurance in the northwest\n",
    "total_northwest_costs = 0\n",
    "for entry in northwest_data:\n",
    "    entry_cost = float(entry['charges'])\n",
    "    total_northwest_costs += entry_cost\n",
    "\n",
    "northwest_average_cost = round(total_northwest_costs / len(northwest_data))\n",
    "\n",
    "print(\"The average insurance costs in the northwest region are {northwest_average_cost} dollars.\".format(northwest_average_cost=northwest_average_cost))"
   ]
  },
  {
   "cell_type": "code",
   "execution_count": 10,
   "metadata": {},
   "outputs": [
    {
     "name": "stdout",
     "output_type": "stream",
     "text": [
      "The average insurance costs in the northeast region are 13406 dollars.\n"
     ]
    }
   ],
   "source": [
    "#Average cost for insurance in the northeast\n",
    "total_northeast_costs = 0\n",
    "for entry in northeast_data:\n",
    "    entry_cost = float(entry['charges'])\n",
    "    total_northeast_costs += entry_cost\n",
    "\n",
    "northeast_average_cost = round(total_northeast_costs / len(northeast_data))\n",
    "\n",
    "print(\"The average insurance costs in the northeast region are {northeast_average_cost} dollars.\".format(northeast_average_cost=northeast_average_cost))"
   ]
  },
  {
   "cell_type": "code",
   "execution_count": 9,
   "metadata": {},
   "outputs": [
    {
     "name": "stdout",
     "output_type": "stream",
     "text": [
      "The average insurance costs in the southeast region are 14735 dollars.\n"
     ]
    }
   ],
   "source": [
    "#Average cost for insurance in the southeast\n",
    "total_southeast_costs = 0\n",
    "for entry in southeast_data:\n",
    "    entry_cost = float(entry['charges'])\n",
    "    total_southeast_costs += entry_cost\n",
    "\n",
    "southeast_average_cost = round(total_southeast_costs / len(southeast_data))\n",
    "\n",
    "print(\"The average insurance costs in the southeast region are {southeast_average_cost} dollars.\".format(southeast_average_cost=southeast_average_cost))"
   ]
  }
 ],
 "metadata": {
  "kernelspec": {
   "display_name": "Python 3 (ipykernel)",
   "language": "python",
   "name": "python3"
  },
  "language_info": {
   "codemirror_mode": {
    "name": "ipython",
    "version": 3
   },
   "file_extension": ".py",
   "mimetype": "text/x-python",
   "name": "python",
   "nbconvert_exporter": "python",
   "pygments_lexer": "ipython3",
   "version": "3.10.9"
  }
 },
 "nbformat": 4,
 "nbformat_minor": 4
}
